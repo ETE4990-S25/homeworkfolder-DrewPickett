{
 "cells": [
  {
   "cell_type": "code",
   "execution_count": 4,
   "id": "573559a0-1fcf-48c7-8224-826e0cd53ec7",
   "metadata": {},
   "outputs": [],
   "source": [
    "class Animals:\n",
    "    def __init__(self, name, location):\n",
    "        self.name=name\n",
    "        self.location=location\n",
    "        \n",
    "class Product(Animals):\n",
    "    def __init__(self, name, location, product):\n",
    "        super().__init__(name, location)\n",
    "        self.product=product\n",
    "        \n",
    "class Work(Animals):\n",
    "    def __init__(self, name, location, labor):\n",
    "        super().__init__(name, location)\n",
    "        self.labor=labor\n",
    "        \n",
    "class Pet(Animals):\n",
    "    def __init__(self, name, location, family):\n",
    "        super().__init__(name, location)\n",
    "        self.family=family\n"
   ]
  },
  {
   "cell_type": "code",
   "execution_count": 5,
   "id": "06d78fc0-09f2-4d62-898a-2cbd885e1762",
   "metadata": {},
   "outputs": [],
   "source": [
    "Cow = Product(\"Bessie\", \"Pasture\", \"Milk\")\n",
    "Horse = Work(\"Blaze\", \"Stable\", \"Transportation\")\n",
    "Pig = Product(\"Buddy\", \"Barn\", \"Pork\")\n",
    "Dog = Pet(\"Bingo\", \"Field\", \"Canine\")\n",
    "Cat = Pet(\"Bella\", \"House\", \"Feline\")"
   ]
  }
 ],
 "metadata": {
  "kernelspec": {
   "display_name": "Python 3 (ipykernel)",
   "language": "python",
   "name": "python3"
  },
  "language_info": {
   "codemirror_mode": {
    "name": "ipython",
    "version": 3
   },
   "file_extension": ".py",
   "mimetype": "text/x-python",
   "name": "python",
   "nbconvert_exporter": "python",
   "pygments_lexer": "ipython3",
   "version": "3.13.2"
  }
 },
 "nbformat": 4,
 "nbformat_minor": 5
}
