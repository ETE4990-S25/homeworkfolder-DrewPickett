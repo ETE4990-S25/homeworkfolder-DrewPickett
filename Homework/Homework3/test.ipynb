{
 "cells": [
  {
   "cell_type": "code",
   "execution_count": 55,
   "id": "10d0fb31",
   "metadata": {},
   "outputs": [],
   "source": [
    "from data_classes import Student\n"
   ]
  },
  {
   "cell_type": "code",
   "execution_count": 56,
   "id": "2a7fcfd6",
   "metadata": {},
   "outputs": [],
   "source": [
    "john = Student(\"john\", \"23\", \"john@university.edu\", \"16243\")\n",
    "david = Student(\"david\", \"21\", \"david@university.edu\", \"16244\")\n",
    "alice = Student(\"alice\", \"20\", \"alice@university.edu\", \"16245\")\n",
    "brian = Student(\"brian\", \"22\", \"brian@university.edu\", \"16246\")"
   ]
  },
  {
   "cell_type": "code",
   "execution_count": 57,
   "id": "5f041b56",
   "metadata": {},
   "outputs": [
    {
     "name": "stdout",
     "output_type": "stream",
     "text": [
      "{\n",
      "    \"name\": \"john\",\n",
      "    \"age\": \"23\",\n",
      "    \"email\": \"john@university.edu\",\n",
      "    \"student_id\": \"16243\"\n",
      "}\n"
     ]
    }
   ],
   "source": [
    "Student.save(john)\n",
    "Student.display(john)"
   ]
  },
  {
   "cell_type": "code",
   "execution_count": 58,
   "id": "039f7727",
   "metadata": {},
   "outputs": [
    {
     "name": "stdout",
     "output_type": "stream",
     "text": [
      "{\n",
      "    \"name\": \"david\",\n",
      "    \"age\": \"21\",\n",
      "    \"email\": \"david@university.edu\",\n",
      "    \"student_id\": \"16244\"\n",
      "}\n"
     ]
    }
   ],
   "source": [
    "Student.save(david)\n",
    "Student.display(david)"
   ]
  },
  {
   "cell_type": "code",
   "execution_count": 59,
   "id": "701ef3d4",
   "metadata": {},
   "outputs": [
    {
     "name": "stdout",
     "output_type": "stream",
     "text": [
      "{\n",
      "    \"name\": \"alice\",\n",
      "    \"age\": \"20\",\n",
      "    \"email\": \"alice@university.edu\",\n",
      "    \"student_id\": \"16245\"\n",
      "}\n"
     ]
    }
   ],
   "source": [
    "Student.save(alice)\n",
    "Student.display(alice)"
   ]
  },
  {
   "cell_type": "code",
   "execution_count": 60,
   "id": "b6b9b0ee",
   "metadata": {},
   "outputs": [
    {
     "name": "stdout",
     "output_type": "stream",
     "text": [
      "{\n",
      "    \"name\": \"brian\",\n",
      "    \"age\": \"22\",\n",
      "    \"email\": \"brian@university.edu\",\n",
      "    \"student_id\": \"16246\"\n",
      "}\n"
     ]
    }
   ],
   "source": [
    "Student.save(brian)\n",
    "Student.display(brian)"
   ]
  }
 ],
 "metadata": {
  "kernelspec": {
   "display_name": "Python 3",
   "language": "python",
   "name": "python3"
  },
  "language_info": {
   "codemirror_mode": {
    "name": "ipython",
    "version": 3
   },
   "file_extension": ".py",
   "mimetype": "text/x-python",
   "name": "python",
   "nbconvert_exporter": "python",
   "pygments_lexer": "ipython3",
   "version": "3.13.2"
  }
 },
 "nbformat": 4,
 "nbformat_minor": 5
}
